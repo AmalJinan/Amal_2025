{
 "cells": [
  {
   "cell_type": "markdown",
   "metadata": {},
   "source": [
    "# JAVASCRIPT Booleans\n",
    "- ## INTRODUCTION\n",
    "# Relational operators in JavaScript are used to compare two values, returning a Boolean value (true or false) based on the relationship. Relational operators are extremley similar to math functions such as less than or equal too.\n",
    "## Common Relational Operators\n",
    "==: Equal to, checks if two values are the same (e.g., verifying a password match).\n",
    "\n",
    "!=: Not equal to, checks if two values are different (e.g., ensuring input changes).\n",
    "\n",
    "===: Strict equal to, checks equality and type (e.g., validating exact user ID).\n",
    "\n",
    "!==: Strict not equal to, checks inequality and type (e.g., ensuring different type or value).\n",
    "\n",
    ">: Greater than, left value is larger than the right (e.g., comparing scores or ages).\n",
    "\n",
    "<: Less than, left value is smaller than the right (e.g., setting age limits).\n",
    "\n",
    ">=: Greater than or equal to, left value is larger or equal (e.g., minimum age validation).\n",
    "\n",
    "EX:"
   ]
  },
  {
   "cell_type": "code",
   "execution_count": null,
   "metadata": {},
   "outputs": [
    {
     "data": {
      "application/javascript": "let boolean =1\nlet turtle =2\nturtle==boolean\n",
      "text/plain": [
       "<IPython.core.display.Javascript object>"
      ]
     },
     "metadata": {},
     "output_type": "display_data"
    }
   ],
   "source": []
  }
 ],
 "metadata": {
  "kernelspec": {
   "display_name": "venv",
   "language": "python",
   "name": "python3"
  },
  "language_info": {
   "codemirror_mode": {
    "name": "ipython",
    "version": 3
   },
   "file_extension": ".py",
   "mimetype": "text/x-python",
   "name": "python",
   "nbconvert_exporter": "python",
   "pygments_lexer": "ipython3",
   "version": "3.10.12"
  }
 },
 "nbformat": 4,
 "nbformat_minor": 2
}
